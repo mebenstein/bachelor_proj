{
 "cells": [
  {
   "cell_type": "code",
   "execution_count": 1,
   "id": "2955d8f3-ff64-4f9c-853d-b2ada7e7f203",
   "metadata": {},
   "outputs": [],
   "source": [
    "import sys\n",
    "\n",
    "sys.path.insert(0,\"../mipnerf/\")"
   ]
  },
  {
   "cell_type": "code",
   "execution_count": 2,
   "id": "c22107b0-e67e-4de0-a575-2813ef6f5335",
   "metadata": {},
   "outputs": [],
   "source": [
    "from internal import mip"
   ]
  },
  {
   "cell_type": "code",
   "execution_count": 3,
   "id": "2a47a51f-f236-4ce3-bbaf-69ce92cf28d7",
   "metadata": {},
   "outputs": [
    {
     "name": "stderr",
     "output_type": "stream",
     "text": [
      "/home/mebenstein/micromamba/envs/mipnerf/lib/python3.6/site-packages/tqdm/auto.py:22: TqdmWarning: IProgress not found. Please update jupyter and ipywidgets. See https://ipywidgets.readthedocs.io/en/stable/user_install.html\n",
      "  from .autonotebook import tqdm as notebook_tqdm\n"
     ]
    }
   ],
   "source": [
    "import torch\n",
    "\n",
    "from nerf_encodings import *\n",
    "from kilonerf_helpers import *\n",
    "\n",
    "torch.set_num_interop_threads(32)\n",
    "\n",
    "dev = \"cpu\"\n",
    "dtype = \"torch.FloatTensor\"\n",
    "\n",
    "data = np.load('data/tiny_nerf_data.npz')\n",
    "images = data['images']\n",
    "poses = data['poses']\n",
    "focal = data['focal']\n",
    "H, W = 100,100\n",
    "\n",
    "i_img = 101 \n",
    "\n",
    "pose = torch.from_numpy(poses[i_img])\n",
    "\n",
    "vecs = get_vecs(H,W,focal)#.numpy()\n",
    "oris, dirs, view_dirs = get_params(vecs,pose)\n",
    "radii = get_radii(vecs)"
   ]
  },
  {
   "cell_type": "code",
   "execution_count": 4,
   "id": "b90de1ca-b8a9-4629-9a3e-785d66d5158c",
   "metadata": {},
   "outputs": [],
   "source": [
    "import jax.numpy as jnp\n",
    "from jax import grad, jit, vmap\n",
    "from jax import random\n",
    "\n",
    "key = random.PRNGKey(0)"
   ]
  },
  {
   "cell_type": "code",
   "execution_count": 5,
   "id": "3aa4de84-e6f9-4de1-b43e-454a1a592ce2",
   "metadata": {},
   "outputs": [
    {
     "data": {
      "text/plain": [
       "torch.Size([10000])"
      ]
     },
     "execution_count": 5,
     "metadata": {},
     "output_type": "execute_result"
    }
   ],
   "source": [
    "radii.shape"
   ]
  },
  {
   "cell_type": "code",
   "execution_count": 6,
   "id": "2751d94e-96ed-486e-b574-8bd658f1405f",
   "metadata": {},
   "outputs": [
    {
     "name": "stdout",
     "output_type": "stream",
     "text": [
      "22.5 ms ± 245 µs per loop (mean ± std. dev. of 7 runs, 1 loop each)\n"
     ]
    }
   ],
   "source": [
    "%%timeit\n",
    "t_vals, samples = mip.sample_along_rays(\n",
    "    key,\n",
    "    jax.device_put(oris.numpy().astype(np.float16)),\n",
    "    jax.device_putdirs.numpy().astype(np.float16)),\n",
    "    jax.device_putradii[...,None].numpy().astype(np.float16)),\n",
    "    128,\n",
    "    2,\n",
    "    6,\n",
    "    True,\n",
    "    True,\n",
    "    \"cone\"\n",
    ")"
   ]
  },
  {
   "cell_type": "code",
   "execution_count": null,
   "id": "2554d284-5769-4519-bb94-3673542e583d",
   "metadata": {},
   "outputs": [],
   "source": []
  }
 ],
 "metadata": {
  "kernelspec": {
   "display_name": "Python (mipnerf)",
   "language": "python",
   "name": "mipnerf"
  },
  "language_info": {
   "codemirror_mode": {
    "name": "ipython",
    "version": 3
   },
   "file_extension": ".py",
   "mimetype": "text/x-python",
   "name": "python",
   "nbconvert_exporter": "python",
   "pygments_lexer": "ipython3",
   "version": "3.6.13"
  }
 },
 "nbformat": 4,
 "nbformat_minor": 5
}
