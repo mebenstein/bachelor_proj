{
 "cells": [
  {
   "cell_type": "code",
   "execution_count": 2,
   "id": "2955d8f3-ff64-4f9c-853d-b2ada7e7f203",
   "metadata": {},
   "outputs": [],
   "source": [
    "import sys\n",
    "\n",
    "sys.path.insert(0,\"../mipnerf/\")"
   ]
  },
  {
   "cell_type": "code",
   "execution_count": 3,
   "id": "c22107b0-e67e-4de0-a575-2813ef6f5335",
   "metadata": {},
   "outputs": [],
   "source": [
    "from internal import mip"
   ]
  },
  {
   "cell_type": "code",
   "execution_count": 4,
   "id": "2a47a51f-f236-4ce3-bbaf-69ce92cf28d7",
   "metadata": {},
   "outputs": [
    {
     "name": "stderr",
     "output_type": "stream",
     "text": [
      "/home/mebenstein/micromamba/envs/mipnerf/lib/python3.6/site-packages/tqdm/auto.py:22: TqdmWarning: IProgress not found. Please update jupyter and ipywidgets. See https://ipywidgets.readthedocs.io/en/stable/user_install.html\n",
      "  from .autonotebook import tqdm as notebook_tqdm\n"
     ]
    }
   ],
   "source": [
    "import torch\n",
    "\n",
    "from nerf_encodings import *\n",
    "from kilonerf_helpers import *\n",
    "\n",
    "torch.set_num_interop_threads(32)\n",
    "\n",
    "dev = \"cpu\"\n",
    "dtype = \"torch.FloatTensor\"\n",
    "\n",
    "data = np.load('data/tiny_nerf_data.npz')\n",
    "images = data['images']\n",
    "poses = data['poses']\n",
    "focal = data['focal']\n",
    "H, W = 100,100\n",
    "\n",
    "i_img = 101 \n",
    "\n",
    "pose = torch.from_numpy(poses[i_img])\n",
    "\n",
    "vecs = get_vecs(H,W,focal)#.numpy()\n",
    "oris, dirs, view_dirs = get_params(vecs,pose)\n",
    "radii = get_radii(vecs)"
   ]
  },
  {
   "cell_type": "code",
   "execution_count": 1,
   "id": "b90de1ca-b8a9-4629-9a3e-785d66d5158c",
   "metadata": {},
   "outputs": [],
   "source": [
    "import jax.numpy as jnp\n",
    "import jax\n",
    "from jax import grad, jit, vmap\n",
    "from jax import random\n",
    "\n",
    "jax.config.update('jax_platform_name', 'gpu')\n",
    "key = random.PRNGKey(0)"
   ]
  },
  {
   "cell_type": "code",
   "execution_count": 15,
   "id": "8109585b-c6b0-43be-979f-6a6a2fbbc5ae",
   "metadata": {},
   "outputs": [],
   "source": []
  },
  {
   "cell_type": "code",
   "execution_count": 5,
   "id": "2751d94e-96ed-486e-b574-8bd658f1405f",
   "metadata": {},
   "outputs": [
    {
     "name": "stdout",
     "output_type": "stream",
     "text": [
      "22.6 ms ± 417 µs per loop (mean ± std. dev. of 7 runs, 1 loop each)\n"
     ]
    }
   ],
   "source": [
    "%%timeit\n",
    "t_vals, samples = mip.sample_along_rays(\n",
    "    key,\n",
    "    jax.device_put(oris.numpy().astype(np.float16)),\n",
    "    jax.device_put(dirs.numpy().astype(np.float16)),\n",
    "    jax.device_put(radii[...,None].numpy().astype(np.float16)),\n",
    "    128,\n",
    "    2,\n",
    "    6,\n",
    "    True,\n",
    "    True,\n",
    "    \"cone\"\n",
    ")"
   ]
  },
  {
   "cell_type": "code",
   "execution_count": 31,
   "id": "2554d284-5769-4519-bb94-3673542e583d",
   "metadata": {},
   "outputs": [
    {
     "name": "stdout",
     "output_type": "stream",
     "text": [
      "23.9 ms ± 1.76 ms per loop (mean ± std. dev. of 7 runs, 10 loops each)\n"
     ]
    }
   ],
   "source": [
    "%%timeit\n",
    "t_vals, samples = mip.sample_along_rays(\n",
    "    key,\n",
    "    a,b,c,\n",
    "    128,\n",
    "    2,\n",
    "    6,\n",
    "    True,\n",
    "    True,\n",
    "    \"cone\"\n",
    ")"
   ]
  },
  {
   "cell_type": "code",
   "execution_count": 24,
   "id": "1eac6983-cfc9-4729-868d-38af348d65f9",
   "metadata": {},
   "outputs": [],
   "source": [
    "a=jax.device_put(oris.numpy().astype(np.float16))\n",
    "b=jax.device_put(dirs.numpy().astype(np.float16))\n",
    "c=jax.device_put(radii[...,None].numpy().astype(np.float16))"
   ]
  },
  {
   "cell_type": "code",
   "execution_count": 29,
   "id": "31df9fb1-7a04-469a-bd6c-404e909d3d90",
   "metadata": {},
   "outputs": [],
   "source": [
    "jax.profiler.start_trace(\"tensorboard\")\n",
    "\n",
    "t_vals, samples = mip.sample_along_rays(\n",
    "    key,\n",
    "    a,b,c,\n",
    "    128,\n",
    "    2,\n",
    "    6,\n",
    "    True,\n",
    "    False,\n",
    "    \"cone\"\n",
    ")\n",
    "\n",
    "t_vals.block_until_ready()\n",
    "samples[0].block_until_ready()\n",
    "samples[1].block_until_ready()\n",
    "\n",
    "jax.profiler.stop_trace()"
   ]
  },
  {
   "cell_type": "code",
   "execution_count": 21,
   "id": "d14a2cfc-3974-477c-98e7-2f267b7e82aa",
   "metadata": {},
   "outputs": [],
   "source": [
    "\n",
    "jax.profiler.stop_trace()"
   ]
  },
  {
   "cell_type": "code",
   "execution_count": null,
   "id": "39c1c2a8-6a5d-4ea2-bead-379015ed511d",
   "metadata": {},
   "outputs": [],
   "source": []
  },
  {
   "cell_type": "code",
   "execution_count": 10,
   "id": "df62481d-1a56-4ed7-8a4e-d4b6220bcc06",
   "metadata": {},
   "outputs": [
    {
     "data": {
      "text/plain": [
       "(DeviceArray([[[-1.0966787e+00, -3.8068056e-02,  1.9722238e+00],\n",
       "               [-1.0841343e+00, -1.1765003e-02,  1.9579569e+00],\n",
       "               [-1.0725882e+00,  1.2444854e-02,  1.9448254e+00],\n",
       "               ...,\n",
       "               [ 5.9090471e-01,  3.5004444e+00,  5.2917957e-02],\n",
       "               [ 6.0584974e-01,  3.5317807e+00,  3.5921097e-02],\n",
       "               [ 6.2200117e-01,  3.5656466e+00,  1.7551899e-02]],\n",
       " \n",
       "              [[-1.0849415e+00, -4.5111060e-02,  1.9701362e+00],\n",
       "               [-1.0746877e+00, -2.3975968e-02,  1.9586042e+00],\n",
       "               [-1.0616314e+00,  2.9358864e-03,  1.9439205e+00],\n",
       "               ...,\n",
       "               [ 6.2137699e-01,  3.4719753e+00,  5.1121235e-02],\n",
       "               [ 6.3323712e-01,  3.4964213e+00,  3.7782669e-02],\n",
       "               [ 6.4865184e-01,  3.5281940e+00,  2.0446777e-02]],\n",
       " \n",
       "              [[-1.0785687e+00, -6.3167214e-02,  1.9746096e+00],\n",
       "               [-1.0639911e+00, -3.3626795e-02,  1.9584041e+00],\n",
       "               [-1.0502856e+00, -5.8540106e-03,  1.9431682e+00],\n",
       "               ...,\n",
       "               [ 6.5472245e-01,  3.4491787e+00,  4.7776937e-02],\n",
       "               [ 6.6820812e-01,  3.4765062e+00,  3.2785416e-02],\n",
       "               [ 6.7977595e-01,  3.4999471e+00,  1.9926071e-02]],\n",
       " \n",
       "              ...,\n",
       " \n",
       "              [[-8.9595354e-01, -1.7946209e+00,  1.0035106e+00],\n",
       "               [-8.8334942e-01, -1.7936360e+00,  9.8052406e-01],\n",
       "               [-8.6163163e-01, -1.7919390e+00,  9.4091630e-01],\n",
       "               ...,\n",
       "               [ 1.1922364e+00, -1.6314512e+00, -2.8048139e+00],\n",
       "               [ 1.2081935e+00, -1.6302043e+00, -2.8339157e+00],\n",
       "               [ 1.2257755e+00, -1.6288306e+00, -2.8659806e+00]],\n",
       " \n",
       "              [[-8.8288558e-01, -1.8049308e+00,  9.9769652e-01],\n",
       "               [-8.6864281e-01, -1.8039658e+00,  9.7195637e-01],\n",
       "               [-8.4829068e-01, -1.8025867e+00,  9.3517494e-01],\n",
       "               ...,\n",
       "               [ 1.2209489e+00, -1.6623746e+00, -2.8044372e+00],\n",
       "               [ 1.2404976e+00, -1.6610501e+00, -2.8397665e+00],\n",
       "               [ 1.2542565e+00, -1.6601177e+00, -2.8646321e+00]],\n",
       " \n",
       "              [[-8.7794292e-01, -1.8158307e+00,  1.0082990e+00],\n",
       "               [-8.6498451e-01, -1.8150854e+00,  9.8511088e-01],\n",
       "               [-8.4765577e-01, -1.8140887e+00,  9.5410252e-01],\n",
       "               ...,\n",
       "               [ 1.2509470e+00, -1.6933862e+00, -2.8011928e+00],\n",
       "               [ 1.2733805e+00, -1.6920959e+00, -2.8413358e+00],\n",
       "               [ 1.2890217e+00, -1.6911963e+00, -2.8693247e+00]]],            dtype=float32),\n",
       " DeviceArray([[[4.26523766e-05, 1.27426916e-04, 4.99648231e-05],\n",
       "               [1.95660214e-05, 2.41906564e-05, 1.99620517e-05],\n",
       "               [3.72728246e-05, 1.00430094e-04, 4.27197010e-05],\n",
       "               ...,\n",
       "               [1.33153299e-04, 7.21669057e-05, 1.27865394e-04],\n",
       "               [1.71819120e-04, 2.36175649e-04, 1.77347058e-04],\n",
       "               [1.39948679e-04, 8.95265403e-05, 1.35571769e-04]],\n",
       " \n",
       "              [[3.26543632e-05, 8.09877602e-05, 3.65815431e-05],\n",
       "               [1.84327291e-05, 1.92284242e-05, 1.84902892e-05],\n",
       "               [4.89909507e-05, 1.47328232e-04, 5.69879558e-05],\n",
       "               ...,\n",
       "               [1.31950612e-04, 6.89396911e-05, 1.26761704e-04],\n",
       "               [1.53074157e-04, 1.54180452e-04, 1.53103683e-04],\n",
       "               [1.47016763e-04, 1.22562895e-04, 1.44965044e-04]],\n",
       " \n",
       "              [[2.21233659e-05, 3.61417478e-05, 2.31859194e-05],\n",
       "               [4.76420028e-05, 1.39139447e-04, 5.45765288e-05],\n",
       "               [2.09038590e-05, 2.76256542e-05, 2.14134270e-05],\n",
       "               ...,\n",
       "               [1.32188972e-04, 7.17643488e-05, 1.27610649e-04],\n",
       "               [1.61118092e-04, 1.85717217e-04, 1.62983546e-04],\n",
       "               [1.31237350e-04, 5.88366274e-05, 1.25751409e-04]],\n",
       " \n",
       "              ...,\n",
       " \n",
       "              [[1.72055388e-05, 1.75847163e-05, 1.63238383e-05],\n",
       "               [4.22815428e-05, 1.81490523e-05, 9.87485837e-05],\n",
       "               [6.59873767e-05, 1.90132996e-05, 1.75895839e-04],\n",
       "               ...,\n",
       "               [1.16873911e-04, 1.51381188e-04, 3.61859966e-05],\n",
       "               [1.92616702e-04, 1.53366927e-04, 2.84494628e-04],\n",
       "               [1.21398763e-04, 1.54617112e-04, 4.37274866e-05]],\n",
       " \n",
       "              [[2.03249601e-05, 1.77060501e-05, 2.63106267e-05],\n",
       "               [4.51749038e-05, 1.82831373e-05, 1.06436302e-04],\n",
       "               [5.22337614e-05, 1.89870334e-05, 1.27967767e-04],\n",
       "               ...,\n",
       "               [1.61926946e-04, 1.51645145e-04, 1.85527693e-04],\n",
       "               [1.37918512e-04, 1.53386398e-04, 1.02883336e-04],\n",
       "               [1.30213564e-04, 1.54661058e-04, 7.47312442e-05]],\n",
       " \n",
       "              [[1.77235379e-05, 1.74999186e-05, 1.82147651e-05],\n",
       "               [4.24052159e-05, 1.79965500e-05, 9.63359853e-05],\n",
       "               [3.57057506e-05, 1.85363369e-05, 7.36404836e-05],\n",
       "               ...,\n",
       "               [1.47783256e-04, 1.51371249e-04, 1.39830183e-04],\n",
       "               [1.69627296e-04, 1.53549845e-04, 2.05126955e-04],\n",
       "               [1.21365534e-04, 1.54866473e-04, 4.73159052e-05]]],            dtype=float32))"
      ]
     },
     "execution_count": 10,
     "metadata": {},
     "output_type": "execute_result"
    }
   ],
   "source": [
    "samples"
   ]
  },
  {
   "cell_type": "code",
   "execution_count": null,
   "id": "21ca8fdf-0562-49d2-a433-abb7314a4bea",
   "metadata": {},
   "outputs": [],
   "source": []
  }
 ],
 "metadata": {
  "kernelspec": {
   "display_name": "Python (mipnerf)",
   "language": "python",
   "name": "mipnerf"
  },
  "language_info": {
   "codemirror_mode": {
    "name": "ipython",
    "version": 3
   },
   "file_extension": ".py",
   "mimetype": "text/x-python",
   "name": "python",
   "nbconvert_exporter": "python",
   "pygments_lexer": "ipython3",
   "version": "3.6.13"
  }
 },
 "nbformat": 4,
 "nbformat_minor": 5
}
