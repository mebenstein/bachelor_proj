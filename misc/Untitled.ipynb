{
 "cells": [
  {
   "cell_type": "code",
   "execution_count": 1,
   "id": "d5c2dc41-7597-4e9a-8e91-2d8a9284b7ee",
   "metadata": {},
   "outputs": [],
   "source": [
    "import sys\n",
    "import os\n",
    "sys.path.insert(0,os.getcwd()+\"/../torch-ngp\")"
   ]
  },
  {
   "cell_type": "code",
   "execution_count": 2,
   "id": "7d90f651-62f1-408d-a463-fad3b6df31c7",
   "metadata": {},
   "outputs": [],
   "source": [
    "from nerf.network_tcnn import NeRFNetwork\n",
    "from nerf.provider import NeRFDataset\n",
    "from easydict import EasyDict\n",
    "from nerf.gui import NeRFGUI\n",
    "from nerf.utils import *\n",
    "import torch"
   ]
  },
  {
   "cell_type": "code",
   "execution_count": 3,
   "id": "570bd163-49e1-4b79-af3f-960ac11acf92",
   "metadata": {},
   "outputs": [],
   "source": [
    "model = NeRFNetwork(\n",
    "    encoding=\"hashgrid\", encoding_dir=\"sphere_harmonics\", \n",
    "    num_layers=2, hidden_dim=64, geo_feat_dim=15, num_layers_color=3, hidden_dim_color=64, \n",
    "    cuda_ray=True,\n",
    ").eval()"
   ]
  },
  {
   "cell_type": "code",
   "execution_count": 15,
   "id": "e61982a2-92c2-4dfa-b988-21a7fa61dc3c",
   "metadata": {},
   "outputs": [],
   "source": [
    "opt = EasyDict()\n",
    "opt.gui = False\n",
    "opt.mode = \"colmap\"\n",
    "opt.path = \"../data/lego\"\n",
    "opt.W = 800\n",
    "opt.H = 800\n",
    "opt.scale = 0.33\n",
    "opt.bound = 3"
   ]
  },
  {
   "cell_type": "code",
   "execution_count": 16,
   "id": "ce456e34-48af-485e-b088-12ab5394dd1b",
   "metadata": {},
   "outputs": [
    {
     "data": {
      "text/html": [
       "<pre style=\"white-space:pre;overflow-x:auto;line-height:normal;font-family:Menlo,'DejaVu Sans Mono',consolas,'Courier New',monospace\"><span style=\"font-weight: bold\">[</span>INFO<span style=\"font-weight: bold\">]</span> Trainer: ngp | <span style=\"color: #008080; text-decoration-color: #008080; font-weight: bold\">2022</span>-<span style=\"color: #008080; text-decoration-color: #008080; font-weight: bold\">04</span>-07_16-<span style=\"color: #008080; text-decoration-color: #008080; font-weight: bold\">50</span>-<span style=\"color: #008080; text-decoration-color: #008080; font-weight: bold\">47</span> | cu<span style=\"color: #00ff00; text-decoration-color: #00ff00; font-weight: bold\">da:0</span> | fp16 | ..<span style=\"color: #800080; text-decoration-color: #800080\">/workspace/</span><span style=\"color: #ff00ff; text-decoration-color: #ff00ff\">lego</span>\n",
       "</pre>\n"
      ],
      "text/plain": [
       "\u001b[1m[\u001b[0mINFO\u001b[1m]\u001b[0m Trainer: ngp | \u001b[1;36m2022\u001b[0m-\u001b[1;36m04\u001b[0m-07_16-\u001b[1;36m50\u001b[0m-\u001b[1;36m47\u001b[0m | cu\u001b[1;92mda:0\u001b[0m | fp16 | ..\u001b[35m/workspace/\u001b[0m\u001b[95mlego\u001b[0m\n"
      ]
     },
     "metadata": {},
     "output_type": "display_data"
    },
    {
     "data": {
      "text/html": [
       "<pre style=\"white-space:pre;overflow-x:auto;line-height:normal;font-family:Menlo,'DejaVu Sans Mono',consolas,'Courier New',monospace\"><span style=\"font-weight: bold\">[</span>INFO<span style=\"font-weight: bold\">]</span> #parameters: <span style=\"color: #008080; text-decoration-color: #008080; font-weight: bold\">12206480</span>\n",
       "</pre>\n"
      ],
      "text/plain": [
       "\u001b[1m[\u001b[0mINFO\u001b[1m]\u001b[0m #parameters: \u001b[1;36m12206480\u001b[0m\n"
      ]
     },
     "metadata": {},
     "output_type": "display_data"
    },
    {
     "data": {
      "text/html": [
       "<pre style=\"white-space:pre;overflow-x:auto;line-height:normal;font-family:Menlo,'DejaVu Sans Mono',consolas,'Courier New',monospace\"><span style=\"font-weight: bold\">[</span>INFO<span style=\"font-weight: bold\">]</span> Loading latest checkpoint <span style=\"color: #808000; text-decoration-color: #808000\">...</span>\n",
       "</pre>\n"
      ],
      "text/plain": [
       "\u001b[1m[\u001b[0mINFO\u001b[1m]\u001b[0m Loading latest checkpoint \u001b[33m...\u001b[0m\n"
      ]
     },
     "metadata": {},
     "output_type": "display_data"
    },
    {
     "data": {
      "text/html": [
       "<pre style=\"white-space:pre;overflow-x:auto;line-height:normal;font-family:Menlo,'DejaVu Sans Mono',consolas,'Courier New',monospace\"><span style=\"font-weight: bold\">[</span>INFO<span style=\"font-weight: bold\">]</span> Latest checkpoint is ..<span style=\"color: #800080; text-decoration-color: #800080\">/workspace/lego/checkpoints/</span><span style=\"color: #ff00ff; text-decoration-color: #ff00ff\">ngp_ep0001.pth.tar</span>\n",
       "</pre>\n"
      ],
      "text/plain": [
       "\u001b[1m[\u001b[0mINFO\u001b[1m]\u001b[0m Latest checkpoint is ..\u001b[35m/workspace/lego/checkpoints/\u001b[0m\u001b[95mngp_ep0001.pth.tar\u001b[0m\n"
      ]
     },
     "metadata": {},
     "output_type": "display_data"
    },
    {
     "data": {
      "text/html": [
       "<pre style=\"white-space:pre;overflow-x:auto;line-height:normal;font-family:Menlo,'DejaVu Sans Mono',consolas,'Courier New',monospace\"><span style=\"font-weight: bold\">[</span>INFO<span style=\"font-weight: bold\">]</span> loaded model.\n",
       "</pre>\n"
      ],
      "text/plain": [
       "\u001b[1m[\u001b[0mINFO\u001b[1m]\u001b[0m loaded model.\n"
      ]
     },
     "metadata": {},
     "output_type": "display_data"
    },
    {
     "data": {
      "text/html": [
       "<pre style=\"white-space:pre;overflow-x:auto;line-height:normal;font-family:Menlo,'DejaVu Sans Mono',consolas,'Courier New',monospace\"><span style=\"font-weight: bold\">[</span>WARN<span style=\"font-weight: bold\">]</span> Failed to load optimizer, use default.\n",
       "</pre>\n"
      ],
      "text/plain": [
       "\u001b[1m[\u001b[0mWARN\u001b[1m]\u001b[0m Failed to load optimizer, use default.\n"
      ]
     },
     "metadata": {},
     "output_type": "display_data"
    },
    {
     "data": {
      "text/html": [
       "<pre style=\"white-space:pre;overflow-x:auto;line-height:normal;font-family:Menlo,'DejaVu Sans Mono',consolas,'Courier New',monospace\"><span style=\"font-weight: bold\">[</span>WARN<span style=\"font-weight: bold\">]</span> Failed to load scheduler, use default.\n",
       "</pre>\n"
      ],
      "text/plain": [
       "\u001b[1m[\u001b[0mWARN\u001b[1m]\u001b[0m Failed to load scheduler, use default.\n"
      ]
     },
     "metadata": {},
     "output_type": "display_data"
    },
    {
     "data": {
      "text/html": [
       "<pre style=\"white-space:pre;overflow-x:auto;line-height:normal;font-family:Menlo,'DejaVu Sans Mono',consolas,'Courier New',monospace\"><span style=\"font-weight: bold\">[</span>INFO<span style=\"font-weight: bold\">]</span> loaded scaler.\n",
       "</pre>\n"
      ],
      "text/plain": [
       "\u001b[1m[\u001b[0mINFO\u001b[1m]\u001b[0m loaded scaler.\n"
      ]
     },
     "metadata": {},
     "output_type": "display_data"
    }
   ],
   "source": [
    "train_dataset = NeRFDataset(opt.path, type='val', mode=opt.mode, scale=opt.scale, preload=False)\n",
    "trainer = Trainer('ngp', vars(opt), model, workspace=\"../workspace/lego\", optimizer=None, criterion=None, ema_decay=0.95, fp16=True, lr_scheduler=None)"
   ]
  },
  {
   "cell_type": "code",
   "execution_count": 17,
   "id": "3945aaca-cffd-463d-9f9b-7d2d2818da90",
   "metadata": {},
   "outputs": [],
   "source": [
    "sample = train_dataset[0]\n",
    "pose = sample[\"pose\"]\n",
    "intr = sample[\"intrinsic\"]\n",
    "focal = intr[0,0].item()\n",
    "H,W = sample[\"image\"].shape[-3:-1]"
   ]
  },
  {
   "cell_type": "code",
   "execution_count": 20,
   "id": "c6ee876c-7be4-4433-b868-bcb91654bb7e",
   "metadata": {},
   "outputs": [
    {
     "data": {
      "text/plain": [
       "800"
      ]
     },
     "execution_count": 20,
     "metadata": {},
     "output_type": "execute_result"
    }
   ],
   "source": [
    "H"
   ]
  },
  {
   "cell_type": "code",
   "execution_count": 21,
   "id": "4fff71cf-dc38-46bc-a9e4-26866550fce1",
   "metadata": {},
   "outputs": [
    {
     "name": "stdout",
     "output_type": "stream",
     "text": [
      "0.0 0.0\n"
     ]
    }
   ],
   "source": [
    "res = trainer.test_gui(pose/3,intr,W,H)\n",
    "print(res[\"depth\"].min().item(),res[\"depth\"].max().item())"
   ]
  },
  {
   "cell_type": "code",
   "execution_count": null,
   "id": "e0b07844-3b59-4a93-a368-854e10c2bb4d",
   "metadata": {},
   "outputs": [],
   "source": [
    "\n",
    "fig, plots = plt.subplots(1,2,figsize=(20,10))\n",
    "\n",
    "plots[0].matshow(res[\"image\"])\n",
    "plots[1].matshow(res[\"depth\"])\n",
    "plt.show()"
   ]
  }
 ],
 "metadata": {
  "kernelspec": {
   "display_name": "Python 3",
   "language": "python",
   "name": "python3"
  },
  "language_info": {
   "codemirror_mode": {
    "name": "ipython",
    "version": 3
   },
   "file_extension": ".py",
   "mimetype": "text/x-python",
   "name": "python",
   "nbconvert_exporter": "python",
   "pygments_lexer": "ipython3",
   "version": "3.8.13"
  }
 },
 "nbformat": 4,
 "nbformat_minor": 5
}
